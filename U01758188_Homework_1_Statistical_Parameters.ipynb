{
 "cells": [
  {
   "cell_type": "markdown",
   "metadata": {},
   "source": [
    "# CS 676: Algorithms for Data Science \n",
    "# Homework 1: Statistical Parameters"
   ]
  },
  {
   "cell_type": "code",
   "execution_count": 1,
   "metadata": {},
   "outputs": [],
   "source": [
    "import numpy as np\n",
    "import math"
   ]
  },
  {
   "cell_type": "code",
   "execution_count": 2,
   "metadata": {},
   "outputs": [],
   "source": [
    "def find_mean(num_list):\n",
    "    \n",
    "    accum = 0\n",
    "    avg = 0\n",
    "    for num in num_list:\n",
    "        accum += num\n",
    "    avg = accum/len(num_list)\n",
    "    \n",
    "    return avg"
   ]
  },
  {
   "cell_type": "code",
   "execution_count": 3,
   "metadata": {},
   "outputs": [],
   "source": [
    "def find_median(num_list):\n",
    "\n",
    "    num_list.sort()\n",
    "    n = int(len(num_list)/2)\n",
    "    median = 0\n",
    "    for num in num_list:\n",
    "        if len(num_list) % 2 == 0:\n",
    "            median = (num_list[n] + num_list[n - 1])/2\n",
    "        else:\n",
    "            median = num_list[n]\n",
    "    return median"
   ]
  },
  {
   "cell_type": "code",
   "execution_count": 4,
   "metadata": {},
   "outputs": [],
   "source": [
    "def find_mode(num_list):  \n",
    "\n",
    "    num_list.sort()\n",
    "    empty_lst = []\n",
    "    count_lst = []\n",
    "    mode = {}\n",
    "    n = len(num_list)\n",
    "    \n",
    "    for i in range(len(num_list)):\n",
    "        \n",
    "        count = 0\n",
    "        if num_list[i] in empty_lst:\n",
    "            continue\n",
    "        \n",
    "        for j in range(len(num_list)):\n",
    "            if num_list[j] == num_list[i]:\n",
    "                count += 1\n",
    "        empty_lst.append(num_list[i])\n",
    "        count_lst.append(count)\n",
    "    \n",
    "    mode = dict(zip(empty_lst, count_lst))\n",
    "    \n",
    "    return list(mode.keys())[list(mode.values()).index(max(mode.values()))]"
   ]
  },
  {
   "cell_type": "code",
   "execution_count": 5,
   "metadata": {},
   "outputs": [],
   "source": [
    "def find_variance(num_list):\n",
    "    \n",
    "    mu = find_mean(num_list)\n",
    "    accum = 0\n",
    "    for num in num_list:\n",
    "        accum += pow(num - mu, 2)\n",
    "    \n",
    "    variance = accum / len(num_list)  # To find sample variance add a negative 1 in the denominator\n",
    "    \n",
    "    return variance"
   ]
  },
  {
   "cell_type": "code",
   "execution_count": 6,
   "metadata": {},
   "outputs": [],
   "source": [
    "def find_standardDeviation(num_list):\n",
    "    \n",
    "    variance = find_variance(num_list)\n",
    "    std = pow(variance, 0.5)\n",
    "    \n",
    "    return std"
   ]
  },
  {
   "cell_type": "code",
   "execution_count": 7,
   "metadata": {},
   "outputs": [],
   "source": [
    "def find_MADmean(num_list):\n",
    "    \n",
    "    accum = 0\n",
    "    mu = find_mean(num_list)\n",
    "    for num in num_list:\n",
    "        accum += abs(num - mu)\n",
    "    MAD_mean = accum/len(num_list)\n",
    "    \n",
    "    return MAD_mean"
   ]
  },
  {
   "cell_type": "code",
   "execution_count": 8,
   "metadata": {},
   "outputs": [],
   "source": [
    "def find_MADmedian(num_list):\n",
    "    \n",
    "    accum = 0\n",
    "    median = find_median(num_list)\n",
    "    for num in num_list:\n",
    "        accum += abs(num - median)\n",
    "    MAD_median = accum/len(num_list)\n",
    "    \n",
    "    return MAD_median"
   ]
  },
  {
   "cell_type": "code",
   "execution_count": 9,
   "metadata": {},
   "outputs": [],
   "source": [
    "def find_MADmode(num_list):\n",
    "    \n",
    "    accum = 0\n",
    "    mode = find_mode(num_list)\n",
    "    for num in num_list:\n",
    "        accum += abs(num - mode)\n",
    "    MAD_mode = accum/len(num_list)\n",
    "    \n",
    "    return MAD_mode\n"
   ]
  },
  {
   "cell_type": "code",
   "execution_count": 10,
   "metadata": {},
   "outputs": [],
   "source": [
    "def find_IQR(num_list):\n",
    "    \n",
    "    num_list.sort()\n",
    "    n = len(num_list)\n",
    "    \n",
    "    if n % 2 == 0:\n",
    "        m = int(n/2)\n",
    "        ql = find_median(num_list[0:m])\n",
    "        qu = find_median(num_list[m:n])\n",
    "        \n",
    "    else:\n",
    "        m = int(n/2)\n",
    "        ql = find_median(num_list[0:m])\n",
    "        qu = find_median(num_list[m+1:n])\n",
    "    IQR = qu - ql\n",
    "    \n",
    "    return IQR\n",
    "    "
   ]
  },
  {
   "cell_type": "code",
   "execution_count": 11,
   "metadata": {},
   "outputs": [],
   "source": [
    "def find_QuartileSkewness(num_list):\n",
    "    \n",
    "    n = len(num_list)\n",
    "    qm = find_median(num_list)\n",
    "    if n % 2 == 0:\n",
    "        m = int(n/2)\n",
    "        ql = find_median(num_list[0:m])\n",
    "        qu = find_median(num_list[m:n])\n",
    "        \n",
    "    else:\n",
    "        m = int(n/2)\n",
    "        ql = find_median(num_list[0:m])\n",
    "        qu = find_median(num_list[m+1:n])\n",
    "    IQR = qu - ql\n",
    "    IQRSkewness = (qu+ql-2*qm)/IQR\n",
    "    \n",
    "    return IQRSkewness"
   ]
  },
  {
   "cell_type": "code",
   "execution_count": 12,
   "metadata": {},
   "outputs": [],
   "source": [
    "def find_Pearson1_Skewness(num_list):\n",
    "    \n",
    "    mu = find_mean(num_list)\n",
    "    mode = find_mode(num_list)\n",
    "    std = find_standardDeviation(num_list)\n",
    "    Pearson_1 = (mu - mode)/std\n",
    "    \n",
    "    return Pearson_1"
   ]
  },
  {
   "cell_type": "code",
   "execution_count": 13,
   "metadata": {},
   "outputs": [],
   "source": [
    "def find_Pearson2_Skewness(num_list):\n",
    "    \n",
    "    mu = find_mean(num_list)\n",
    "    median = find_median(num_list)\n",
    "    std = find_standardDeviation(num_list)\n",
    "    Pearson_2 = 3 * ((mu - median)/std)\n",
    "    \n",
    "    return Pearson_2"
   ]
  },
  {
   "cell_type": "code",
   "execution_count": 14,
   "metadata": {},
   "outputs": [],
   "source": [
    "def find_GMCoeff(num_list):\n",
    "\n",
    "    mu = find_mean(num_list)\n",
    "    median = find_median(num_list)\n",
    "    MAD_Median = find_MADmedian(num_list)\n",
    "    GMCoeff = (mu - median)/MAD_Median\n",
    "    \n",
    "    return GMCoeff\n"
   ]
  },
  {
   "cell_type": "code",
   "execution_count": 15,
   "metadata": {},
   "outputs": [],
   "source": [
    "def find_PearsonMomentCoeff(num_list):\n",
    "    \n",
    "    std = find_standardDeviation(num_list)\n",
    "    mu = find_mean(num_list)\n",
    "    accum = 0\n",
    "    for num in num_list:\n",
    "        accum += pow(num - mu, 3)\n",
    "    \n",
    "    PearsonMomentCoeff = accum / (len(num_list)*pow(std,3)) \n",
    "    \n",
    "    return PearsonMomentCoeff\n"
   ]
  },
  {
   "cell_type": "code",
   "execution_count": 16,
   "metadata": {},
   "outputs": [],
   "source": [
    "def find_Kurtosis(num_list):\n",
    "    \n",
    "    std = find_standardDeviation(num_list)\n",
    "    mu = find_mean(num_list)\n",
    "    accum = 0\n",
    "    for num in num_list:\n",
    "        accum += pow(num - mu, 4)\n",
    "    \n",
    "    Kurtosis = accum / (len(num_list)*pow(std,4)) \n",
    "    \n",
    "    return Kurtosis\n",
    "\n"
   ]
  },
  {
   "cell_type": "code",
   "execution_count": 17,
   "metadata": {},
   "outputs": [],
   "source": [
    "def find_Entropy(num_list):\n",
    "    \n",
    "    Entropy = 0\n",
    "    empty_lst = []\n",
    "    \n",
    "    for i in range(len(num_list)):\n",
    "        \n",
    "        count = 0\n",
    "        if num_list[i] in empty_lst:\n",
    "            continue\n",
    "        \n",
    "        for j in range(len(num_list)):\n",
    "            if num_list[j] == num_list[i]:\n",
    "                count += 1\n",
    "        empty_lst.append(num_list[i])\n",
    "        \n",
    "        Entropy += (count/len(num_list))*(np.log2(count/len(num_list)))\n",
    "    \n",
    "    return -Entropy\n",
    "        "
   ]
  },
  {
   "cell_type": "code",
   "execution_count": 18,
   "metadata": {},
   "outputs": [],
   "source": [
    "def find_ShannonIndex(num_list):\n",
    "    \n",
    "    ShannonIndex = 0\n",
    "    empty_lst = []\n",
    "    \n",
    "    for i in range(len(num_list)):\n",
    "        \n",
    "        count = 0\n",
    "        if num_list[i] in empty_lst:\n",
    "            continue\n",
    "        \n",
    "        for j in range(len(num_list)):\n",
    "            if num_list[j] == num_list[i]:\n",
    "                count += 1\n",
    "        empty_lst.append(num_list[i])\n",
    "        \n",
    "        ShannonIndex += (count/len(num_list))*(np.log(count/len(num_list)))\n",
    "    \n",
    "    return -ShannonIndex"
   ]
  },
  {
   "cell_type": "code",
   "execution_count": 19,
   "metadata": {},
   "outputs": [],
   "source": [
    "def find_BergerParkerIndex(num_list):\n",
    "\n",
    "    empty_lst = []\n",
    "    BergerParkerIndex = []\n",
    "    n = len(num_list)\n",
    "    \n",
    "    for i in range(len(num_list)):\n",
    "        \n",
    "        count = 0\n",
    "        if num_list[i] in empty_lst:\n",
    "            continue\n",
    "        \n",
    "        for j in range(len(num_list)):\n",
    "            if num_list[j] == num_list[i]:\n",
    "                count += 1\n",
    "        empty_lst.append(num_list[i])\n",
    "        BergerParkerIndex.append(count/n)\n",
    "\n",
    "    return max(BergerParkerIndex)\n"
   ]
  },
  {
   "cell_type": "code",
   "execution_count": 20,
   "metadata": {},
   "outputs": [],
   "source": [
    "def find_SimpsonIndex(num_list):\n",
    "    \n",
    "    SimpsonIndex = 0\n",
    "    empty_lst = []\n",
    "    n = len(num_list)\n",
    "    \n",
    "    for i in range(len(num_list)):\n",
    "        if num_list[i] not in empty_lst:\n",
    "            empty_lst.append(num_list[i])\n",
    "    for ele in empty_lst:\n",
    "        SimpsonIndex += pow(num_list.count(ele)/n, 2)\n",
    "\n",
    "    return SimpsonIndex"
   ]
  },
  {
   "cell_type": "code",
   "execution_count": 21,
   "metadata": {},
   "outputs": [],
   "source": [
    "def find_GiniSimpson(num_list):\n",
    "    return 1 - find_SimpsonIndex(num_list)"
   ]
  },
  {
   "cell_type": "code",
   "execution_count": 22,
   "metadata": {},
   "outputs": [],
   "source": [
    "def find_CollisonEntropy(num_list):\n",
    "    return -np.log(find_SimpsonIndex(num_list))"
   ]
  },
  {
   "cell_type": "markdown",
   "metadata": {},
   "source": [
    "### Applying the functions for one of the statistical parameters, rest of the answers are in the pdf file attached with this assignment"
   ]
  },
  {
   "cell_type": "code",
   "execution_count": 23,
   "metadata": {},
   "outputs": [
    {
     "data": {
      "text/plain": [
       "2.5"
      ]
     },
     "execution_count": 23,
     "metadata": {},
     "output_type": "execute_result"
    }
   ],
   "source": [
    "find_mean([3,3,1,4,2,1,4,2])"
   ]
  },
  {
   "cell_type": "code",
   "execution_count": 24,
   "metadata": {},
   "outputs": [
    {
     "data": {
      "text/plain": [
       "2.5"
      ]
     },
     "execution_count": 24,
     "metadata": {},
     "output_type": "execute_result"
    }
   ],
   "source": [
    "find_median([3,3,1,4,2,1,4,2])"
   ]
  },
  {
   "cell_type": "code",
   "execution_count": 25,
   "metadata": {},
   "outputs": [
    {
     "data": {
      "text/plain": [
       "1"
      ]
     },
     "execution_count": 25,
     "metadata": {},
     "output_type": "execute_result"
    }
   ],
   "source": [
    "find_mode([3,3,1,4,2,1,4,2])"
   ]
  },
  {
   "cell_type": "code",
   "execution_count": 26,
   "metadata": {},
   "outputs": [
    {
     "data": {
      "text/plain": [
       "1.25"
      ]
     },
     "execution_count": 26,
     "metadata": {},
     "output_type": "execute_result"
    }
   ],
   "source": [
    "find_variance([3,3,1,4,2,1,4,2])"
   ]
  },
  {
   "cell_type": "code",
   "execution_count": 27,
   "metadata": {},
   "outputs": [
    {
     "data": {
      "text/plain": [
       "1.118033988749895"
      ]
     },
     "execution_count": 27,
     "metadata": {},
     "output_type": "execute_result"
    }
   ],
   "source": [
    "find_standardDeviation([3,3,1,4,2,1,4,2])"
   ]
  },
  {
   "cell_type": "code",
   "execution_count": 28,
   "metadata": {},
   "outputs": [
    {
     "data": {
      "text/plain": [
       "1.0"
      ]
     },
     "execution_count": 28,
     "metadata": {},
     "output_type": "execute_result"
    }
   ],
   "source": [
    "find_MADmean([3,3,1,4,2,1,4,2])"
   ]
  },
  {
   "cell_type": "code",
   "execution_count": 29,
   "metadata": {},
   "outputs": [
    {
     "data": {
      "text/plain": [
       "1.0"
      ]
     },
     "execution_count": 29,
     "metadata": {},
     "output_type": "execute_result"
    }
   ],
   "source": [
    "find_MADmedian([3,3,1,4,2,1,4,2])"
   ]
  },
  {
   "cell_type": "code",
   "execution_count": 30,
   "metadata": {},
   "outputs": [
    {
     "data": {
      "text/plain": [
       "1.5"
      ]
     },
     "execution_count": 30,
     "metadata": {},
     "output_type": "execute_result"
    }
   ],
   "source": [
    "find_MADmode([3,3,1,4,2,1,4,2])"
   ]
  },
  {
   "cell_type": "code",
   "execution_count": 31,
   "metadata": {},
   "outputs": [
    {
     "data": {
      "text/plain": [
       "2"
      ]
     },
     "execution_count": 31,
     "metadata": {},
     "output_type": "execute_result"
    }
   ],
   "source": [
    "find_IQR([1,4,3,1,1,3])"
   ]
  },
  {
   "cell_type": "code",
   "execution_count": 32,
   "metadata": {},
   "outputs": [
    {
     "data": {
      "text/plain": [
       "0.0"
      ]
     },
     "execution_count": 32,
     "metadata": {},
     "output_type": "execute_result"
    }
   ],
   "source": [
    "find_QuartileSkewness([3,3,1,4,2,1,4,2])"
   ]
  },
  {
   "cell_type": "code",
   "execution_count": 33,
   "metadata": {},
   "outputs": [
    {
     "data": {
      "text/plain": [
       "1.3416407864998738"
      ]
     },
     "execution_count": 33,
     "metadata": {},
     "output_type": "execute_result"
    }
   ],
   "source": [
    "find_Pearson1_Skewness([3,3,1,4,2,1,4,2])"
   ]
  },
  {
   "cell_type": "code",
   "execution_count": 34,
   "metadata": {},
   "outputs": [
    {
     "data": {
      "text/plain": [
       "0.0"
      ]
     },
     "execution_count": 34,
     "metadata": {},
     "output_type": "execute_result"
    }
   ],
   "source": [
    "find_Pearson2_Skewness([3,3,1,4,2,1,4,2])"
   ]
  },
  {
   "cell_type": "code",
   "execution_count": 35,
   "metadata": {},
   "outputs": [
    {
     "data": {
      "text/plain": [
       "0.0"
      ]
     },
     "execution_count": 35,
     "metadata": {},
     "output_type": "execute_result"
    }
   ],
   "source": [
    "find_GMCoeff([3,3,1,4,2,1,4,2])"
   ]
  },
  {
   "cell_type": "code",
   "execution_count": 36,
   "metadata": {},
   "outputs": [
    {
     "data": {
      "text/plain": [
       "0.0"
      ]
     },
     "execution_count": 36,
     "metadata": {},
     "output_type": "execute_result"
    }
   ],
   "source": [
    "find_PearsonMomentCoeff([3,3,1,4,2,1,4,2])"
   ]
  },
  {
   "cell_type": "code",
   "execution_count": 37,
   "metadata": {},
   "outputs": [
    {
     "data": {
      "text/plain": [
       "1.6399999999999997"
      ]
     },
     "execution_count": 37,
     "metadata": {},
     "output_type": "execute_result"
    }
   ],
   "source": [
    "find_Kurtosis([3,3,1,4,2,1,4,2])"
   ]
  },
  {
   "cell_type": "code",
   "execution_count": 38,
   "metadata": {},
   "outputs": [
    {
     "data": {
      "text/plain": [
       "2.0"
      ]
     },
     "execution_count": 38,
     "metadata": {},
     "output_type": "execute_result"
    }
   ],
   "source": [
    "find_Entropy([3,3,1,4,2,1,4,2])"
   ]
  },
  {
   "cell_type": "code",
   "execution_count": 39,
   "metadata": {},
   "outputs": [
    {
     "data": {
      "text/plain": [
       "1.3862943611198906"
      ]
     },
     "execution_count": 39,
     "metadata": {},
     "output_type": "execute_result"
    }
   ],
   "source": [
    "find_ShannonIndex([3,3,1,4,2,1,4,2])"
   ]
  },
  {
   "cell_type": "code",
   "execution_count": 40,
   "metadata": {},
   "outputs": [
    {
     "data": {
      "text/plain": [
       "0.25"
      ]
     },
     "execution_count": 40,
     "metadata": {},
     "output_type": "execute_result"
    }
   ],
   "source": [
    "find_BergerParkerIndex([3,3,1,4,2,1,4,2])"
   ]
  },
  {
   "cell_type": "code",
   "execution_count": 41,
   "metadata": {},
   "outputs": [
    {
     "data": {
      "text/plain": [
       "0.25"
      ]
     },
     "execution_count": 41,
     "metadata": {},
     "output_type": "execute_result"
    }
   ],
   "source": [
    "find_SimpsonIndex([3,3,1,4,2,1,4,2])"
   ]
  },
  {
   "cell_type": "code",
   "execution_count": 42,
   "metadata": {},
   "outputs": [
    {
     "data": {
      "text/plain": [
       "0.6111111111111112"
      ]
     },
     "execution_count": 42,
     "metadata": {},
     "output_type": "execute_result"
    }
   ],
   "source": [
    "find_GiniSimpson([1,4,3,1,1,3])"
   ]
  },
  {
   "cell_type": "code",
   "execution_count": 43,
   "metadata": {},
   "outputs": [
    {
     "data": {
      "text/plain": [
       "0.9444616088408514"
      ]
     },
     "execution_count": 43,
     "metadata": {},
     "output_type": "execute_result"
    }
   ],
   "source": [
    "find_CollisonEntropy([1,4,3,1,1,3])"
   ]
  },
  {
   "cell_type": "code",
   "execution_count": 50,
   "metadata": {},
   "outputs": [
    {
     "data": {
      "text/plain": [
       "1.4591479170272448"
      ]
     },
     "execution_count": 50,
     "metadata": {},
     "output_type": "execute_result"
    }
   ],
   "source": [
    "find_Entropy([1,4,3,1,1,4])   #Y"
   ]
  },
  {
   "cell_type": "code",
   "execution_count": 52,
   "metadata": {},
   "outputs": [
    {
     "data": {
      "text/plain": [
       "-0.392232270276368"
      ]
     },
     "execution_count": 52,
     "metadata": {},
     "output_type": "execute_result"
    }
   ],
   "source": [
    "find_Pearson1_Skewness([3,1,2,3,4])  #X"
   ]
  },
  {
   "cell_type": "code",
   "execution_count": null,
   "metadata": {},
   "outputs": [],
   "source": []
  },
  {
   "cell_type": "code",
   "execution_count": null,
   "metadata": {},
   "outputs": [],
   "source": []
  },
  {
   "cell_type": "code",
   "execution_count": null,
   "metadata": {},
   "outputs": [],
   "source": []
  },
  {
   "cell_type": "code",
   "execution_count": null,
   "metadata": {},
   "outputs": [],
   "source": []
  }
 ],
 "metadata": {
  "kernelspec": {
   "display_name": "Python 3",
   "language": "python",
   "name": "python3"
  },
  "language_info": {
   "codemirror_mode": {
    "name": "ipython",
    "version": 3
   },
   "file_extension": ".py",
   "mimetype": "text/x-python",
   "name": "python",
   "nbconvert_exporter": "python",
   "pygments_lexer": "ipython3",
   "version": "3.8.3"
  }
 },
 "nbformat": 4,
 "nbformat_minor": 4
}
